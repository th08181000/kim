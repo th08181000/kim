{
 "cells": [
  {
   "cell_type": "code",
   "execution_count": 27,
   "id": "671295f0",
   "metadata": {
    "scrolled": false
   },
   "outputs": [
    {
     "ename": "DatabaseError",
     "evalue": "ORA-01017: 사용자명/비밀번호가 부적합, 로그온할 수 없습니다.",
     "output_type": "error",
     "traceback": [
      "\u001b[1;31m---------------------------------------------------------------------------\u001b[0m",
      "\u001b[1;31mDatabaseError\u001b[0m                             Traceback (most recent call last)",
      "Cell \u001b[1;32mIn[27], line 4\u001b[0m\n\u001b[0;32m      1\u001b[0m \u001b[38;5;28;01mimport\u001b[39;00m \u001b[38;5;21;01mcx_Oracle\u001b[39;00m\n\u001b[0;32m      2\u001b[0m \u001b[38;5;28;01mimport\u001b[39;00m \u001b[38;5;21;01mpandas\u001b[39;00m \u001b[38;5;28;01mas\u001b[39;00m \u001b[38;5;21;01mpd\u001b[39;00m\n\u001b[1;32m----> 4\u001b[0m db \u001b[38;5;241m=\u001b[39m \u001b[43mcx_Oracle\u001b[49m\u001b[38;5;241;43m.\u001b[39;49m\u001b[43mconnect\u001b[49m\u001b[43m(\u001b[49m\u001b[38;5;124;43m\"\u001b[39;49m\u001b[38;5;124;43mC##kpr_user\u001b[39;49m\u001b[38;5;124;43m\"\u001b[39;49m\u001b[43m,\u001b[49m\u001b[38;5;124;43m\"\u001b[39;49m\u001b[38;5;124;43m1234\u001b[39;49m\u001b[38;5;124;43m\"\u001b[39;49m\u001b[43m,\u001b[49m\u001b[38;5;124;43m'\u001b[39;49m\u001b[38;5;124;43mlocalhost:1521/xe\u001b[39;49m\u001b[38;5;124;43m'\u001b[39;49m\u001b[43m)\u001b[49m\n\u001b[0;32m      5\u001b[0m cursor \u001b[38;5;241m=\u001b[39m db\u001b[38;5;241m.\u001b[39mcursor()\n\u001b[0;32m      6\u001b[0m cursor\u001b[38;5;241m.\u001b[39mexecute(\u001b[38;5;124m'\u001b[39m\u001b[38;5;124mselect * from DEMO23\u001b[39m\u001b[38;5;124m'\u001b[39m)\n",
      "\u001b[1;31mDatabaseError\u001b[0m: ORA-01017: 사용자명/비밀번호가 부적합, 로그온할 수 없습니다."
     ]
    }
   ],
   "source": [
    "import cx_Oracle\n",
    "import pandas as pd\n",
    "\n",
    "db = cx_Oracle.connect(\"C##kpr_user\",\"1234\",'localhost:1521/xe')\n",
    "cursor = db.cursor()\n",
    "cursor.execute('select * from DEMO23')\n",
    "x = cursor.fetchall()\n",
    "df = pd.DataFrame(x)\n",
    "cursor.execute(\"select column_name from user_tab_columns where table_name = 'DEMO23'\")\n",
    "col = cursor.fetchall()\n",
    "list1 = []\n",
    "for i in col:\n",
    "    for j in i:\n",
    "        list1.append(j)\n",
    "df.columns = list1\n",
    "df.head()"
   ]
  },
  {
   "cell_type": "code",
   "execution_count": 3,
   "id": "0580af27",
   "metadata": {},
   "outputs": [
    {
     "name": "stderr",
     "output_type": "stream",
     "text": [
      "C:\\Users\\thkkk\\anaconda3\\lib\\site-packages\\openpyxl\\styles\\stylesheet.py:226: UserWarning: Workbook contains no default style, apply openpyxl's default\n",
      "  warn(\"Workbook contains no default style, apply openpyxl's default\")\n"
     ]
    },
    {
     "name": "stdout",
     "output_type": "stream",
     "text": [
      "           고객번호  연령대   거주지역     구매금액   증감        구매일자 임의코드분류명    분기  고객유형  \\\n",
      "0       17485.0  장년층  100.0   2000.0   증가  20150921.0     B식품  15_3  충성고객   \n",
      "1       17485.0  장년층  100.0   1250.0   증가  20150921.0     B식품  15_3  충성고객   \n",
      "2       17485.0  장년층  100.0  23790.0   증가  20150921.0     B식품  15_3  충성고객   \n",
      "3       17485.0  장년층  100.0  25600.0   증가  20150921.0     B식품  15_3  충성고객   \n",
      "4       17485.0  장년층  100.0  12800.0   증가  20150921.0     B식품  15_3  충성고객   \n",
      "...         ...  ...    ...      ...  ...         ...     ...   ...   ...   \n",
      "296999      NaN  NaN    NaN      NaN  NaN         NaN     NaN   NaN   NaN   \n",
      "297000      NaN  NaN    NaN      NaN  NaN         NaN     NaN   NaN   NaN   \n",
      "297001      NaN  NaN    NaN      NaN  NaN         NaN     NaN   NaN   NaN   \n",
      "297002      NaN  NaN    NaN      NaN  NaN         NaN     NaN   NaN   NaN   \n",
      "0           NaN  NaN    NaN      NaN  NaN         NaN     NaN   NaN   NaN   \n",
      "\n",
      "                                               Unnamed: 0 Unnamed: 1  \\\n",
      "0                                                     NaN        NaN   \n",
      "1                                                     NaN        NaN   \n",
      "2                                                     NaN        NaN   \n",
      "3                                                     NaN        NaN   \n",
      "4                                                     NaN        NaN   \n",
      "...                                                   ...        ...   \n",
      "296999                                               8331        중년층   \n",
      "297000                                               8331        중년층   \n",
      "297001                                              13243        장년층   \n",
      "297002                                              13657        청년층   \n",
      "0       select \"고객번호\" \"고객번호\", \"연령대\" \"연령대\", \"거주지역\" \"거주지...        NaN   \n",
      "\n",
      "        Unnamed: 2  Unnamed: 3 Unnamed: 4  Unnamed: 5 Unnamed: 6 Unnamed: 7  \\\n",
      "0              NaN         NaN        NaN         NaN        NaN        NaN   \n",
      "1              NaN         NaN        NaN         NaN        NaN        NaN   \n",
      "2              NaN         NaN        NaN         NaN        NaN        NaN   \n",
      "3              NaN         NaN        NaN         NaN        NaN        NaN   \n",
      "4              NaN         NaN        NaN         NaN        NaN        NaN   \n",
      "...            ...         ...        ...         ...        ...        ...   \n",
      "296999       210.0      3950.0         증가  20151103.0        B식품       15_4   \n",
      "297000       210.0      2300.0         증가  20151103.0        B식품       15_4   \n",
      "297001       210.0       990.0         증가  20151103.0        B식품       15_4   \n",
      "297002       210.0      2520.0         증가  20151104.0        B식품       15_4   \n",
      "0              NaN         NaN        NaN         NaN        NaN        NaN   \n",
      "\n",
      "       Unnamed: 8  \n",
      "0             NaN  \n",
      "1             NaN  \n",
      "2             NaN  \n",
      "3             NaN  \n",
      "4             NaN  \n",
      "...           ...  \n",
      "296999       충성고객  \n",
      "297000       충성고객  \n",
      "297001       충성고객  \n",
      "297002       충성고객  \n",
      "0             NaN  \n",
      "\n",
      "[28593031 rows x 18 columns]\n"
     ]
    }
   ],
   "source": [
    "import pandas as pd\n",
    "\n",
    "excel_file = pd.ExcelFile('cal.xlsx')  # ExcelFile 객체 생성\n",
    "dfs = []  # 시트 데이터를 저장할 리스트 생성\n",
    "\n",
    "for sheet_name in excel_file.sheet_names:\n",
    "    df = excel_file.parse(sheet_name)  # 시트별로 데이터프레임 읽기\n",
    "    dfs.append(df)  # 리스트에 데이터프레임 추가\n",
    "\n",
    "merged_df = pd.concat(dfs)  # 데이터프레임들을 합치기\n",
    "\n",
    "# 합쳐진 데이터프레임 확인\n",
    "print(merged_df)\n"
   ]
  },
  {
   "cell_type": "code",
   "execution_count": null,
   "id": "b8864269",
   "metadata": {},
   "outputs": [],
   "source": [
    "import cx_Oracle\n",
    "import pandas as pd\n",
    "\n",
    "# Oracle 데이터베이스에 연결\n",
    "db = cx_Oracle.connect(\"c##kpr_user\",\"1234\",'localhost:1521/xe')\n",
    "cursor = db.cursor()\n",
    "\n",
    "# DEMO23 테이블의 데이터 가져오기\n",
    "cursor.execute('select * from DEMO23')\n",
    "x = cursor.fetchall()\n",
    "df = pd.DataFrame(x)\n",
    "\n",
    "# 컬럼명 가져오기\n",
    "cursor.execute(\"select column_name from user_tab_columns where table_name = 'DEMO23'\")\n",
    "col = cursor.fetchall()\n",
    "list1 = [i[0] for i in col]\n",
    "\n",
    "# 데이터프레임의 컬럼명 설정\n",
    "df.columns = list1\n",
    "\n",
    "# 결과 확인\n",
    "df.head()\n"
   ]
  },
  {
   "cell_type": "code",
   "execution_count": null,
   "id": "87b177a4",
   "metadata": {
    "scrolled": true
   },
   "outputs": [
    {
     "name": "stderr",
     "output_type": "stream",
     "text": [
      "C:\\Users\\thkkk\\anaconda3\\lib\\site-packages\\openpyxl\\styles\\stylesheet.py:226: UserWarning: Workbook contains no default style, apply openpyxl's default\n",
      "  warn(\"Workbook contains no default style, apply openpyxl's default\")\n"
     ]
    }
   ],
   "source": [
    "import pandas as pd\n",
    "df = pd.read_excel('cal.xlsx')"
   ]
  },
  {
   "cell_type": "code",
   "execution_count": 4,
   "id": "6ce746ea",
   "metadata": {},
   "outputs": [
    {
     "data": {
      "text/html": [
       "<div>\n",
       "<style scoped>\n",
       "    .dataframe tbody tr th:only-of-type {\n",
       "        vertical-align: middle;\n",
       "    }\n",
       "\n",
       "    .dataframe tbody tr th {\n",
       "        vertical-align: top;\n",
       "    }\n",
       "\n",
       "    .dataframe thead th {\n",
       "        text-align: right;\n",
       "    }\n",
       "</style>\n",
       "<table border=\"1\" class=\"dataframe\">\n",
       "  <thead>\n",
       "    <tr style=\"text-align: right;\">\n",
       "      <th></th>\n",
       "      <th>Unnamed: 0</th>\n",
       "    </tr>\n",
       "  </thead>\n",
       "  <tbody>\n",
       "    <tr>\n",
       "      <th>0</th>\n",
       "      <td>select \"고객번호\" \"고객번호\", \"연령대\" \"연령대\", \"거주지역\" \"거주지...</td>\n",
       "    </tr>\n",
       "  </tbody>\n",
       "</table>\n",
       "</div>"
      ],
      "text/plain": [
       "                                          Unnamed: 0\n",
       "0  select \"고객번호\" \"고객번호\", \"연령대\" \"연령대\", \"거주지역\" \"거주지..."
      ]
     },
     "execution_count": 4,
     "metadata": {},
     "output_type": "execute_result"
    }
   ],
   "source": [
    "df.head()"
   ]
  }
 ],
 "metadata": {
  "kernelspec": {
   "display_name": "Python 3 (ipykernel)",
   "language": "python",
   "name": "python3"
  },
  "language_info": {
   "codemirror_mode": {
    "name": "ipython",
    "version": 3
   },
   "file_extension": ".py",
   "mimetype": "text/x-python",
   "name": "python",
   "nbconvert_exporter": "python",
   "pygments_lexer": "ipython3",
   "version": "3.10.9"
  }
 },
 "nbformat": 4,
 "nbformat_minor": 5
}
